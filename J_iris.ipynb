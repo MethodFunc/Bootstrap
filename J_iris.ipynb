{
 "cells": [
  {
   "cell_type": "code",
   "execution_count": 0,
   "outputs": [],
   "source": [],
   "metadata": {
    "collapsed": false,
    "pycharm": {
     "name": "#%%\n"
    }
   }
  },
  {
   "cell_type": "code",
   "execution_count": 1,
   "outputs": [
    {
     "data": {
      "text/plain": "'0.23.1'"
     },
     "execution_count": 1,
     "metadata": {},
     "output_type": "execute_result"
    }
   ],
   "source": [
    "import sklearn\n",
    "\n",
    "sklearn.__version__"
   ],
   "metadata": {
    "collapsed": false,
    "pycharm": {
     "name": "#%%\n"
    }
   }
  },
  {
   "cell_type": "markdown",
   "source": [
    "### Logistic Regression"
   ],
   "metadata": {
    "collapsed": false
   }
  },
  {
   "cell_type": "code",
   "execution_count": 2,
   "outputs": [],
   "source": [
    "import numpy as np\n",
    "import pandas as pd\n",
    "import warnings\n",
    "from sklearn.datasets import load_iris\n",
    "from sklearn.model_selection import train_test_split\n",
    "from sklearn.linear_model import LogisticRegression\n",
    "from sklearn.metrics import accuracy_score\n",
    "from sklearn.svm import SVC\n",
    "from sklearn.tree import DecisionTreeClassifier\n",
    "import joblib\n",
    "warnings.filterwarnings('ignore')"
   ],
   "metadata": {
    "collapsed": false,
    "pycharm": {
     "name": "#%%\n"
    }
   }
  },
  {
   "cell_type": "code",
   "execution_count": 3,
   "outputs": [],
   "source": [
    "iris = load_iris()"
   ],
   "metadata": {
    "collapsed": false,
    "pycharm": {
     "name": "#%%\n"
    }
   }
  },
  {
   "cell_type": "code",
   "execution_count": 4,
   "outputs": [],
   "source": [
    "# data, target , target_names, DESCR, feature_names, filename\n",
    "data = iris.data\n",
    "label = iris.target\n",
    "columns =iris.feature_names\n",
    "df = pd.DataFrame(data, columns=columns)"
   ],
   "metadata": {
    "collapsed": false,
    "pycharm": {
     "name": "#%%\n"
    }
   }
  },
  {
   "cell_type": "code",
   "execution_count": 5,
   "outputs": [
    {
     "data": {
      "text/plain": "   sepal length (cm)  sepal width (cm)  petal length (cm)  petal width (cm)\n0                5.1               3.5                1.4               0.2\n1                4.9               3.0                1.4               0.2\n2                4.7               3.2                1.3               0.2\n3                4.6               3.1                1.5               0.2\n4                5.0               3.6                1.4               0.2",
      "text/html": "<div>\n<style scoped>\n    .dataframe tbody tr th:only-of-type {\n        vertical-align: middle;\n    }\n\n    .dataframe tbody tr th {\n        vertical-align: top;\n    }\n\n    .dataframe thead th {\n        text-align: right;\n    }\n</style>\n<table border=\"1\" class=\"dataframe\">\n  <thead>\n    <tr style=\"text-align: right;\">\n      <th></th>\n      <th>sepal length (cm)</th>\n      <th>sepal width (cm)</th>\n      <th>petal length (cm)</th>\n      <th>petal width (cm)</th>\n    </tr>\n  </thead>\n  <tbody>\n    <tr>\n      <th>0</th>\n      <td>5.1</td>\n      <td>3.5</td>\n      <td>1.4</td>\n      <td>0.2</td>\n    </tr>\n    <tr>\n      <th>1</th>\n      <td>4.9</td>\n      <td>3.0</td>\n      <td>1.4</td>\n      <td>0.2</td>\n    </tr>\n    <tr>\n      <th>2</th>\n      <td>4.7</td>\n      <td>3.2</td>\n      <td>1.3</td>\n      <td>0.2</td>\n    </tr>\n    <tr>\n      <th>3</th>\n      <td>4.6</td>\n      <td>3.1</td>\n      <td>1.5</td>\n      <td>0.2</td>\n    </tr>\n    <tr>\n      <th>4</th>\n      <td>5.0</td>\n      <td>3.6</td>\n      <td>1.4</td>\n      <td>0.2</td>\n    </tr>\n  </tbody>\n</table>\n</div>"
     },
     "execution_count": 5,
     "metadata": {},
     "output_type": "execute_result"
    }
   ],
   "source": [
    "df.head()"
   ],
   "metadata": {
    "collapsed": false,
    "pycharm": {
     "name": "#%%\n"
    }
   }
  },
  {
   "cell_type": "code",
   "execution_count": 6,
   "outputs": [],
   "source": [
    "x_train, x_test, y_train, y_test = train_test_split(data, label, test_size = 0.2, shuffle=True, stratify=label, random_state=2019)"
   ],
   "metadata": {
    "collapsed": false,
    "pycharm": {
     "name": "#%%\n"
    }
   }
  },
  {
   "cell_type": "code",
   "execution_count": 7,
   "outputs": [],
   "source": [
    "lr = LogisticRegression(verbose=1)\n",
    "svc = SVC()\n",
    "dtc = DecisionTreeClassifier()"
   ],
   "metadata": {
    "collapsed": false,
    "pycharm": {
     "name": "#%%\n"
    }
   }
  },
  {
   "cell_type": "code",
   "execution_count": 8,
   "outputs": [
    {
     "name": "stderr",
     "output_type": "stream",
     "text": [
      "[Parallel(n_jobs=1)]: Using backend SequentialBackend with 1 concurrent workers.\n",
      "[Parallel(n_jobs=1)]: Done   1 out of   1 | elapsed:    0.0s finished\n"
     ]
    },
    {
     "data": {
      "text/plain": "DecisionTreeClassifier()"
     },
     "execution_count": 8,
     "metadata": {},
     "output_type": "execute_result"
    }
   ],
   "source": [
    "lr.fit(x_train, y_train)\n",
    "svc.fit(x_train, y_train)\n",
    "dtc.fit(x_train, y_train)"
   ],
   "metadata": {
    "collapsed": false,
    "pycharm": {
     "name": "#%%\n"
    }
   }
  },
  {
   "cell_type": "code",
   "execution_count": 9,
   "outputs": [
    {
     "data": {
      "text/plain": "array([[-0.43317381,  0.82132162, -2.39404621, -0.96775315],\n       [ 0.49039219, -0.29951834, -0.15922783, -0.91535322],\n       [-0.05721839, -0.52180328,  2.55327404,  1.88310637]])"
     },
     "execution_count": 9,
     "metadata": {},
     "output_type": "execute_result"
    }
   ],
   "source": [
    "# 계수(weight)\n",
    "lr.coef_"
   ],
   "metadata": {
    "collapsed": false,
    "pycharm": {
     "name": "#%%\n"
    }
   }
  },
  {
   "cell_type": "code",
   "execution_count": 10,
   "outputs": [
    {
     "data": {
      "text/plain": "array([  9.79511659,   2.02930398, -11.82442057])"
     },
     "execution_count": 10,
     "metadata": {},
     "output_type": "execute_result"
    }
   ],
   "source": [
    "# Bias\n",
    "lr.intercept_"
   ],
   "metadata": {
    "collapsed": false,
    "pycharm": {
     "name": "#%%\n"
    }
   }
  },
  {
   "cell_type": "markdown",
   "source": [
    "### - 학습한 결과를 저장"
   ],
   "metadata": {
    "collapsed": false
   }
  },
  {
   "cell_type": "code",
   "execution_count": 11,
   "outputs": [
    {
     "data": {
      "text/plain": "['models/iris_dt.pkl']"
     },
     "execution_count": 11,
     "metadata": {},
     "output_type": "execute_result"
    }
   ],
   "source": [
    "joblib.dump(lr, 'models/iris_lr.pkl')\n",
    "joblib.dump(svc, 'models/iris_svm.pkl')\n",
    "joblib.dump(dtc, 'models/iris_dt.pkl')\n"
   ],
   "metadata": {
    "collapsed": false,
    "pycharm": {
     "name": "#%%\n"
    }
   }
  },
  {
   "cell_type": "markdown",
   "source": [
    "### 저장된 모델로 정확도 측정"
   ],
   "metadata": {
    "collapsed": false
   }
  },
  {
   "cell_type": "code",
   "execution_count": 12,
   "outputs": [],
   "source": [
    "# 저장된 모델 불러오기\n",
    "model_lr = joblib.load('models/iris_lr.pkl')\n",
    "model_svm = joblib.load('models/iris_svm.pkl')\n",
    "model_dt = joblib.load('models/iris_dt.pkl')"
   ],
   "metadata": {
    "collapsed": false,
    "pycharm": {
     "name": "#%%\n"
    }
   }
  },
  {
   "cell_type": "code",
   "execution_count": 13,
   "outputs": [],
   "source": [
    "# 저장된 모델 예측하기\n",
    "y_pred_lr = model_lr.predict(x_test)\n",
    "y_pred_svm = model_svm.predict(x_test)\n",
    "y_pred_dt = model_dt.predict(x_test)"
   ],
   "metadata": {
    "collapsed": false,
    "pycharm": {
     "name": "#%%\n"
    }
   }
  },
  {
   "cell_type": "code",
   "execution_count": 14,
   "outputs": [
    {
     "name": "stdout",
     "output_type": "stream",
     "text": [
      "0.9666666666666667 0.9666666666666667 0.9666666666666667\n"
     ]
    }
   ],
   "source": [
    "# 저장된 모델 정확도 구하기\n",
    "acc_lr = accuracy_score(y_test, y_pred_lr)\n",
    "acc_svm = accuracy_score(y_test, y_pred_svm)\n",
    "acc_dt = accuracy_score(y_test, y_pred_dt)\n",
    "\n",
    "print(acc_lr, acc_svm, acc_dt)"
   ],
   "metadata": {
    "collapsed": false,
    "pycharm": {
     "name": "#%%\n"
    }
   }
  },
  {
   "cell_type": "markdown",
   "source": [
    "### 한개의 값 예측"
   ],
   "metadata": {
    "collapsed": false
   }
  },
  {
   "cell_type": "code",
   "execution_count": 15,
   "outputs": [
    {
     "data": {
      "text/plain": "     sepal length (cm)  sepal width (cm)  petal length (cm)  petal width (cm)\n145                6.7               3.0                5.2               2.3\n146                6.3               2.5                5.0               1.9\n147                6.5               3.0                5.2               2.0\n148                6.2               3.4                5.4               2.3\n149                5.9               3.0                5.1               1.8",
      "text/html": "<div>\n<style scoped>\n    .dataframe tbody tr th:only-of-type {\n        vertical-align: middle;\n    }\n\n    .dataframe tbody tr th {\n        vertical-align: top;\n    }\n\n    .dataframe thead th {\n        text-align: right;\n    }\n</style>\n<table border=\"1\" class=\"dataframe\">\n  <thead>\n    <tr style=\"text-align: right;\">\n      <th></th>\n      <th>sepal length (cm)</th>\n      <th>sepal width (cm)</th>\n      <th>petal length (cm)</th>\n      <th>petal width (cm)</th>\n    </tr>\n  </thead>\n  <tbody>\n    <tr>\n      <th>145</th>\n      <td>6.7</td>\n      <td>3.0</td>\n      <td>5.2</td>\n      <td>2.3</td>\n    </tr>\n    <tr>\n      <th>146</th>\n      <td>6.3</td>\n      <td>2.5</td>\n      <td>5.0</td>\n      <td>1.9</td>\n    </tr>\n    <tr>\n      <th>147</th>\n      <td>6.5</td>\n      <td>3.0</td>\n      <td>5.2</td>\n      <td>2.0</td>\n    </tr>\n    <tr>\n      <th>148</th>\n      <td>6.2</td>\n      <td>3.4</td>\n      <td>5.4</td>\n      <td>2.3</td>\n    </tr>\n    <tr>\n      <th>149</th>\n      <td>5.9</td>\n      <td>3.0</td>\n      <td>5.1</td>\n      <td>1.8</td>\n    </tr>\n  </tbody>\n</table>\n</div>"
     },
     "execution_count": 15,
     "metadata": {},
     "output_type": "execute_result"
    }
   ],
   "source": [
    "df.tail()"
   ],
   "metadata": {
    "collapsed": false,
    "pycharm": {
     "name": "#%%\n"
    }
   }
  },
  {
   "cell_type": "code",
   "execution_count": 16,
   "outputs": [],
   "source": [
    "# 테스트 모델\n",
    "test_data=np.array([6.7, 3.0, 5.2, 2.3]).reshape(1, 4)"
   ],
   "metadata": {
    "collapsed": false,
    "pycharm": {
     "name": "#%%\n"
    }
   }
  },
  {
   "cell_type": "code",
   "source": [
    "index_lr = model_lr.predict(test_data)[0]\n",
    "index_svm = model_svm.predict(test_data)[0]\n",
    "index_dt = model_dt.predict(test_data)[0]"
   ],
   "metadata": {
    "collapsed": false,
    "pycharm": {
     "name": "#%%\n"
    }
   },
   "execution_count": 17,
   "outputs": []
  },
  {
   "cell_type": "code",
   "execution_count": 18,
   "outputs": [
    {
     "name": "stdout",
     "output_type": "stream",
     "text": [
      "Virginica Virginica Virginica\n"
     ]
    }
   ],
   "source": [
    "sp_names=['Setosa', 'Versivolor', 'Virginica']\n",
    "\n",
    "print(sp_names[index_lr], sp_names[index_svm], sp_names[index_dt])"
   ],
   "metadata": {
    "collapsed": false,
    "pycharm": {
     "name": "#%%\n"
    }
   }
  },
  {
   "cell_type": "markdown",
   "source": [
    "### Deep Learning Model save\n",
    "\n"
   ],
   "metadata": {
    "collapsed": false,
    "pycharm": {
     "name": "#%% md\n"
    }
   }
  },
  {
   "cell_type": "code",
   "execution_count": 19,
   "outputs": [
    {
     "name": "stderr",
     "output_type": "stream",
     "text": [
      "Using TensorFlow backend.\n"
     ]
    }
   ],
   "source": [
    "import tensorflow as tf\n",
    "from tensorflow import keras\n",
    "from keras.models import Sequential, load_model\n",
    "from keras.layers import Dense\n",
    "from keras.callbacks import ModelCheckpoint"
   ],
   "metadata": {
    "collapsed": false,
    "pycharm": {
     "name": "#%%\n"
    }
   }
  },
  {
   "cell_type": "code",
   "execution_count": 20,
   "outputs": [],
   "source": [
    "y_encoded = keras.utils.to_categorical(y_train)"
   ],
   "metadata": {
    "collapsed": false,
    "pycharm": {
     "name": "#%%\n"
    }
   }
  },
  {
   "cell_type": "code",
   "execution_count": 21,
   "outputs": [
    {
     "name": "stdout",
     "output_type": "stream",
     "text": [
      "Model: \"sequential_1\"\n",
      "_________________________________________________________________\n",
      "Layer (type)                 Output Shape              Param #   \n",
      "=================================================================\n",
      "dense_1 (Dense)              (None, 12)                60        \n",
      "_________________________________________________________________\n",
      "dense_2 (Dense)              (None, 8)                 104       \n",
      "_________________________________________________________________\n",
      "dense_3 (Dense)              (None, 3)                 27        \n",
      "=================================================================\n",
      "Total params: 191\n",
      "Trainable params: 191\n",
      "Non-trainable params: 0\n",
      "_________________________________________________________________\n"
     ]
    }
   ],
   "source": [
    "model = Sequential([\n",
    "    Dense(12, input_shape=(4, ), activation='relu'),\n",
    "    Dense(8, activation='relu'),\n",
    "    Dense(3, activation='softmax')\n",
    "])\n",
    "\n",
    "model.summary()"
   ],
   "metadata": {
    "collapsed": false,
    "pycharm": {
     "name": "#%%\n"
    }
   }
  },
  {
   "cell_type": "code",
   "execution_count": 22,
   "outputs": [],
   "source": [
    "model.compile('adam', 'categorical_crossentropy',['accuracy'])"
   ],
   "metadata": {
    "collapsed": false,
    "pycharm": {
     "name": "#%%\n"
    }
   }
  },
  {
   "cell_type": "code",
   "execution_count": 23,
   "outputs": [],
   "source": [
    "cp =ModelCheckpoint('models/iris_deep.hd5', save_best_only=True, verbose=1)"
   ],
   "metadata": {
    "collapsed": false,
    "pycharm": {
     "name": "#%%\n"
    }
   }
  },
  {
   "cell_type": "code",
   "execution_count": 24,
   "outputs": [
    {
     "name": "stdout",
     "output_type": "stream",
     "text": [
      "Train on 96 samples, validate on 24 samples\n",
      "Epoch 1/100\n",
      " - 0s - loss: 1.2747 - accuracy: 0.6562 - val_loss: 1.0990 - val_accuracy: 0.7083\n",
      "\n",
      "Epoch 00001: val_loss improved from inf to 1.09899, saving model to models/iris_deep.hd5\n",
      "Epoch 2/100\n",
      " - 0s - loss: 1.2134 - accuracy: 0.6562 - val_loss: 1.0647 - val_accuracy: 0.7083\n",
      "\n",
      "Epoch 00002: val_loss improved from 1.09899 to 1.06474, saving model to models/iris_deep.hd5\n",
      "Epoch 3/100\n",
      " - 0s - loss: 1.1623 - accuracy: 0.6562 - val_loss: 1.0363 - val_accuracy: 0.7083\n",
      "\n",
      "Epoch 00003: val_loss improved from 1.06474 to 1.03625, saving model to models/iris_deep.hd5\n",
      "Epoch 4/100\n",
      " - 0s - loss: 1.1249 - accuracy: 0.6562 - val_loss: 1.0112 - val_accuracy: 0.7083\n",
      "\n",
      "Epoch 00004: val_loss improved from 1.03625 to 1.01124, saving model to models/iris_deep.hd5\n",
      "Epoch 5/100\n",
      " - 0s - loss: 1.0862 - accuracy: 0.6562 - val_loss: 0.9893 - val_accuracy: 0.7083\n",
      "\n",
      "Epoch 00005: val_loss improved from 1.01124 to 0.98931, saving model to models/iris_deep.hd5\n",
      "Epoch 6/100\n",
      " - 0s - loss: 1.0561 - accuracy: 0.6562 - val_loss: 0.9702 - val_accuracy: 0.7083\n",
      "\n",
      "Epoch 00006: val_loss improved from 0.98931 to 0.97024, saving model to models/iris_deep.hd5\n",
      "Epoch 7/100\n",
      " - 0s - loss: 1.0269 - accuracy: 0.6562 - val_loss: 0.9555 - val_accuracy: 0.7083\n",
      "\n",
      "Epoch 00007: val_loss improved from 0.97024 to 0.95555, saving model to models/iris_deep.hd5\n",
      "Epoch 8/100\n",
      " - 0s - loss: 1.0034 - accuracy: 0.6562 - val_loss: 0.9418 - val_accuracy: 0.7083\n",
      "\n",
      "Epoch 00008: val_loss improved from 0.95555 to 0.94175, saving model to models/iris_deep.hd5\n",
      "Epoch 9/100\n",
      " - 0s - loss: 0.9797 - accuracy: 0.6562 - val_loss: 0.9294 - val_accuracy: 0.7083\n",
      "\n",
      "Epoch 00009: val_loss improved from 0.94175 to 0.92939, saving model to models/iris_deep.hd5\n",
      "Epoch 10/100\n",
      " - 0s - loss: 0.9628 - accuracy: 0.6562 - val_loss: 0.9174 - val_accuracy: 0.7083\n",
      "\n",
      "Epoch 00010: val_loss improved from 0.92939 to 0.91737, saving model to models/iris_deep.hd5\n",
      "Epoch 11/100\n",
      " - 0s - loss: 0.9428 - accuracy: 0.6562 - val_loss: 0.9056 - val_accuracy: 0.7083\n",
      "\n",
      "Epoch 00011: val_loss improved from 0.91737 to 0.90561, saving model to models/iris_deep.hd5\n",
      "Epoch 12/100\n",
      " - 0s - loss: 0.9291 - accuracy: 0.6562 - val_loss: 0.8948 - val_accuracy: 0.7083\n",
      "\n",
      "Epoch 00012: val_loss improved from 0.90561 to 0.89482, saving model to models/iris_deep.hd5\n",
      "Epoch 13/100\n",
      " - 0s - loss: 0.9162 - accuracy: 0.6562 - val_loss: 0.8849 - val_accuracy: 0.7083\n",
      "\n",
      "Epoch 00013: val_loss improved from 0.89482 to 0.88486, saving model to models/iris_deep.hd5\n",
      "Epoch 14/100\n",
      " - 0s - loss: 0.9041 - accuracy: 0.6562 - val_loss: 0.8745 - val_accuracy: 0.7083\n",
      "\n",
      "Epoch 00014: val_loss improved from 0.88486 to 0.87451, saving model to models/iris_deep.hd5\n",
      "Epoch 15/100\n",
      " - 0s - loss: 0.8929 - accuracy: 0.6562 - val_loss: 0.8666 - val_accuracy: 0.7083\n",
      "\n",
      "Epoch 00015: val_loss improved from 0.87451 to 0.86659, saving model to models/iris_deep.hd5\n",
      "Epoch 16/100\n",
      " - 0s - loss: 0.8822 - accuracy: 0.6562 - val_loss: 0.8591 - val_accuracy: 0.7083\n",
      "\n",
      "Epoch 00016: val_loss improved from 0.86659 to 0.85907, saving model to models/iris_deep.hd5\n",
      "Epoch 17/100\n",
      " - 0s - loss: 0.8714 - accuracy: 0.6771 - val_loss: 0.8516 - val_accuracy: 0.7917\n",
      "\n",
      "Epoch 00017: val_loss improved from 0.85907 to 0.85164, saving model to models/iris_deep.hd5\n",
      "Epoch 18/100\n",
      " - 0s - loss: 0.8610 - accuracy: 0.6771 - val_loss: 0.8416 - val_accuracy: 0.7917\n",
      "\n",
      "Epoch 00018: val_loss improved from 0.85164 to 0.84156, saving model to models/iris_deep.hd5\n",
      "Epoch 19/100\n",
      " - 0s - loss: 0.8514 - accuracy: 0.6771 - val_loss: 0.8313 - val_accuracy: 0.7917\n",
      "\n",
      "Epoch 00019: val_loss improved from 0.84156 to 0.83129, saving model to models/iris_deep.hd5\n",
      "Epoch 20/100\n",
      " - 0s - loss: 0.8414 - accuracy: 0.6771 - val_loss: 0.8215 - val_accuracy: 0.7917\n",
      "\n",
      "Epoch 00020: val_loss improved from 0.83129 to 0.82149, saving model to models/iris_deep.hd5\n",
      "Epoch 21/100\n",
      " - 0s - loss: 0.8317 - accuracy: 0.6771 - val_loss: 0.8118 - val_accuracy: 0.7917\n",
      "\n",
      "Epoch 00021: val_loss improved from 0.82149 to 0.81176, saving model to models/iris_deep.hd5\n",
      "Epoch 22/100\n",
      " - 0s - loss: 0.8207 - accuracy: 0.6875 - val_loss: 0.8046 - val_accuracy: 0.8333\n",
      "\n",
      "Epoch 00022: val_loss improved from 0.81176 to 0.80458, saving model to models/iris_deep.hd5\n",
      "Epoch 23/100\n",
      " - 0s - loss: 0.8114 - accuracy: 0.7292 - val_loss: 0.7965 - val_accuracy: 0.8333\n",
      "\n",
      "Epoch 00023: val_loss improved from 0.80458 to 0.79655, saving model to models/iris_deep.hd5\n",
      "Epoch 24/100\n",
      " - 0s - loss: 0.8014 - accuracy: 0.7500 - val_loss: 0.7855 - val_accuracy: 0.8333\n",
      "\n",
      "Epoch 00024: val_loss improved from 0.79655 to 0.78554, saving model to models/iris_deep.hd5\n",
      "Epoch 25/100\n",
      " - 0s - loss: 0.7912 - accuracy: 0.7396 - val_loss: 0.7744 - val_accuracy: 0.8333\n",
      "\n",
      "Epoch 00025: val_loss improved from 0.78554 to 0.77436, saving model to models/iris_deep.hd5\n",
      "Epoch 26/100\n",
      " - 0s - loss: 0.7802 - accuracy: 0.6979 - val_loss: 0.7620 - val_accuracy: 0.8333\n",
      "\n",
      "Epoch 00026: val_loss improved from 0.77436 to 0.76196, saving model to models/iris_deep.hd5\n",
      "Epoch 27/100\n",
      " - 0s - loss: 0.7697 - accuracy: 0.6979 - val_loss: 0.7487 - val_accuracy: 0.7917\n",
      "\n",
      "Epoch 00027: val_loss improved from 0.76196 to 0.74866, saving model to models/iris_deep.hd5\n",
      "Epoch 28/100\n",
      " - 0s - loss: 0.7599 - accuracy: 0.6771 - val_loss: 0.7364 - val_accuracy: 0.7500\n",
      "\n",
      "Epoch 00028: val_loss improved from 0.74866 to 0.73641, saving model to models/iris_deep.hd5\n",
      "Epoch 29/100\n",
      " - 0s - loss: 0.7502 - accuracy: 0.6771 - val_loss: 0.7255 - val_accuracy: 0.7083\n",
      "\n",
      "Epoch 00029: val_loss improved from 0.73641 to 0.72549, saving model to models/iris_deep.hd5\n",
      "Epoch 30/100\n",
      " - 0s - loss: 0.7411 - accuracy: 0.6667 - val_loss: 0.7156 - val_accuracy: 0.7083\n",
      "\n",
      "Epoch 00030: val_loss improved from 0.72549 to 0.71558, saving model to models/iris_deep.hd5\n",
      "Epoch 31/100\n",
      " - 0s - loss: 0.7320 - accuracy: 0.6667 - val_loss: 0.7081 - val_accuracy: 0.7083\n",
      "\n",
      "Epoch 00031: val_loss improved from 0.71558 to 0.70811, saving model to models/iris_deep.hd5\n",
      "Epoch 32/100\n",
      " - 0s - loss: 0.7230 - accuracy: 0.6771 - val_loss: 0.7026 - val_accuracy: 0.7917\n",
      "\n",
      "Epoch 00032: val_loss improved from 0.70811 to 0.70264, saving model to models/iris_deep.hd5\n",
      "Epoch 33/100\n",
      " - 0s - loss: 0.7147 - accuracy: 0.6771 - val_loss: 0.6948 - val_accuracy: 0.7917\n",
      "\n",
      "Epoch 00033: val_loss improved from 0.70264 to 0.69482, saving model to models/iris_deep.hd5\n",
      "Epoch 34/100\n",
      " - 0s - loss: 0.7061 - accuracy: 0.6771 - val_loss: 0.6845 - val_accuracy: 0.7917\n",
      "\n",
      "Epoch 00034: val_loss improved from 0.69482 to 0.68453, saving model to models/iris_deep.hd5\n",
      "Epoch 35/100\n",
      " - 0s - loss: 0.6972 - accuracy: 0.6771 - val_loss: 0.6755 - val_accuracy: 0.7917\n",
      "\n",
      "Epoch 00035: val_loss improved from 0.68453 to 0.67551, saving model to models/iris_deep.hd5\n",
      "Epoch 36/100\n",
      " - 0s - loss: 0.6882 - accuracy: 0.6771 - val_loss: 0.6681 - val_accuracy: 0.7917\n",
      "\n",
      "Epoch 00036: val_loss improved from 0.67551 to 0.66807, saving model to models/iris_deep.hd5\n",
      "Epoch 37/100\n",
      " - 0s - loss: 0.6796 - accuracy: 0.6875 - val_loss: 0.6624 - val_accuracy: 0.8333\n",
      "\n",
      "Epoch 00037: val_loss improved from 0.66807 to 0.66244, saving model to models/iris_deep.hd5\n",
      "Epoch 38/100\n",
      " - 0s - loss: 0.6701 - accuracy: 0.7188 - val_loss: 0.6568 - val_accuracy: 0.8333\n",
      "\n",
      "Epoch 00038: val_loss improved from 0.66244 to 0.65680, saving model to models/iris_deep.hd5\n",
      "Epoch 39/100\n",
      " - 0s - loss: 0.6607 - accuracy: 0.7812 - val_loss: 0.6480 - val_accuracy: 0.8333\n",
      "\n",
      "Epoch 00039: val_loss improved from 0.65680 to 0.64801, saving model to models/iris_deep.hd5\n",
      "Epoch 40/100\n",
      " - 0s - loss: 0.6519 - accuracy: 0.8021 - val_loss: 0.6387 - val_accuracy: 0.8333\n",
      "\n",
      "Epoch 00040: val_loss improved from 0.64801 to 0.63873, saving model to models/iris_deep.hd5\n",
      "Epoch 41/100\n",
      " - 0s - loss: 0.6430 - accuracy: 0.8125 - val_loss: 0.6300 - val_accuracy: 0.8750\n",
      "\n",
      "Epoch 00041: val_loss improved from 0.63873 to 0.63002, saving model to models/iris_deep.hd5\n",
      "Epoch 42/100\n",
      " - 0s - loss: 0.6343 - accuracy: 0.8125 - val_loss: 0.6199 - val_accuracy: 0.8333\n",
      "\n",
      "Epoch 00042: val_loss improved from 0.63002 to 0.61986, saving model to models/iris_deep.hd5\n",
      "Epoch 43/100\n",
      " - 0s - loss: 0.6262 - accuracy: 0.7917 - val_loss: 0.6093 - val_accuracy: 0.8333\n",
      "\n",
      "Epoch 00043: val_loss improved from 0.61986 to 0.60927, saving model to models/iris_deep.hd5\n",
      "Epoch 44/100\n",
      " - 0s - loss: 0.6184 - accuracy: 0.7708 - val_loss: 0.6031 - val_accuracy: 0.8333\n",
      "\n",
      "Epoch 00044: val_loss improved from 0.60927 to 0.60311, saving model to models/iris_deep.hd5\n",
      "Epoch 45/100\n",
      " - 0s - loss: 0.6102 - accuracy: 0.8125 - val_loss: 0.6011 - val_accuracy: 0.9583\n",
      "\n",
      "Epoch 00045: val_loss improved from 0.60311 to 0.60112, saving model to models/iris_deep.hd5\n",
      "Epoch 46/100\n",
      " - 0s - loss: 0.6030 - accuracy: 0.8750 - val_loss: 0.5974 - val_accuracy: 1.0000\n",
      "\n",
      "Epoch 00046: val_loss improved from 0.60112 to 0.59744, saving model to models/iris_deep.hd5\n",
      "Epoch 47/100\n",
      " - 0s - loss: 0.5960 - accuracy: 0.8854 - val_loss: 0.5895 - val_accuracy: 1.0000\n",
      "\n",
      "Epoch 00047: val_loss improved from 0.59744 to 0.58954, saving model to models/iris_deep.hd5\n",
      "Epoch 48/100\n",
      " - 0s - loss: 0.5885 - accuracy: 0.8854 - val_loss: 0.5801 - val_accuracy: 1.0000\n",
      "\n",
      "Epoch 00048: val_loss improved from 0.58954 to 0.58014, saving model to models/iris_deep.hd5\n",
      "Epoch 49/100\n",
      " - 0s - loss: 0.5808 - accuracy: 0.8750 - val_loss: 0.5715 - val_accuracy: 1.0000\n",
      "\n",
      "Epoch 00049: val_loss improved from 0.58014 to 0.57147, saving model to models/iris_deep.hd5\n",
      "Epoch 50/100\n",
      " - 0s - loss: 0.5748 - accuracy: 0.8542 - val_loss: 0.5626 - val_accuracy: 0.9583\n",
      "\n",
      "Epoch 00050: val_loss improved from 0.57147 to 0.56257, saving model to models/iris_deep.hd5\n",
      "Epoch 51/100\n",
      " - 0s - loss: 0.5685 - accuracy: 0.8542 - val_loss: 0.5601 - val_accuracy: 1.0000\n",
      "\n",
      "Epoch 00051: val_loss improved from 0.56257 to 0.56010, saving model to models/iris_deep.hd5\n",
      "Epoch 52/100\n",
      " - 0s - loss: 0.5602 - accuracy: 0.8854 - val_loss: 0.5526 - val_accuracy: 1.0000\n",
      "\n",
      "Epoch 00052: val_loss improved from 0.56010 to 0.55261, saving model to models/iris_deep.hd5\n",
      "Epoch 53/100\n",
      " - 0s - loss: 0.5539 - accuracy: 0.8750 - val_loss: 0.5456 - val_accuracy: 1.0000\n",
      "\n",
      "Epoch 00053: val_loss improved from 0.55261 to 0.54559, saving model to models/iris_deep.hd5\n",
      "Epoch 54/100\n",
      " - 0s - loss: 0.5473 - accuracy: 0.8854 - val_loss: 0.5402 - val_accuracy: 1.0000\n",
      "\n",
      "Epoch 00054: val_loss improved from 0.54559 to 0.54023, saving model to models/iris_deep.hd5\n",
      "Epoch 55/100\n",
      " - 0s - loss: 0.5410 - accuracy: 0.8854 - val_loss: 0.5329 - val_accuracy: 1.0000\n",
      "\n",
      "Epoch 00055: val_loss improved from 0.54023 to 0.53292, saving model to models/iris_deep.hd5\n",
      "Epoch 56/100\n",
      " - 0s - loss: 0.5354 - accuracy: 0.8750 - val_loss: 0.5254 - val_accuracy: 1.0000\n",
      "\n",
      "Epoch 00056: val_loss improved from 0.53292 to 0.52535, saving model to models/iris_deep.hd5\n",
      "Epoch 57/100\n",
      " - 0s - loss: 0.5288 - accuracy: 0.8646 - val_loss: 0.5193 - val_accuracy: 1.0000\n",
      "\n",
      "Epoch 00057: val_loss improved from 0.52535 to 0.51927, saving model to models/iris_deep.hd5\n",
      "Epoch 58/100\n",
      " - 0s - loss: 0.5232 - accuracy: 0.8646 - val_loss: 0.5128 - val_accuracy: 1.0000\n",
      "\n",
      "Epoch 00058: val_loss improved from 0.51927 to 0.51284, saving model to models/iris_deep.hd5\n",
      "Epoch 59/100\n",
      " - 0s - loss: 0.5175 - accuracy: 0.8542 - val_loss: 0.5058 - val_accuracy: 1.0000\n",
      "\n",
      "Epoch 00059: val_loss improved from 0.51284 to 0.50576, saving model to models/iris_deep.hd5\n",
      "Epoch 60/100\n",
      " - 0s - loss: 0.5128 - accuracy: 0.8542 - val_loss: 0.4990 - val_accuracy: 0.9583\n",
      "\n",
      "Epoch 00060: val_loss improved from 0.50576 to 0.49899, saving model to models/iris_deep.hd5\n",
      "Epoch 61/100\n",
      " - 0s - loss: 0.5077 - accuracy: 0.8542 - val_loss: 0.4922 - val_accuracy: 0.9167\n",
      "\n",
      "Epoch 00061: val_loss improved from 0.49899 to 0.49224, saving model to models/iris_deep.hd5\n",
      "Epoch 62/100\n",
      " - 0s - loss: 0.5023 - accuracy: 0.8438 - val_loss: 0.4894 - val_accuracy: 1.0000\n",
      "\n",
      "Epoch 00062: val_loss improved from 0.49224 to 0.48938, saving model to models/iris_deep.hd5\n",
      "Epoch 63/100\n",
      " - 0s - loss: 0.4972 - accuracy: 0.8646 - val_loss: 0.4856 - val_accuracy: 1.0000\n",
      "\n",
      "Epoch 00063: val_loss improved from 0.48938 to 0.48558, saving model to models/iris_deep.hd5\n",
      "Epoch 64/100\n",
      " - 0s - loss: 0.4921 - accuracy: 0.8646 - val_loss: 0.4808 - val_accuracy: 1.0000\n",
      "\n",
      "Epoch 00064: val_loss improved from 0.48558 to 0.48083, saving model to models/iris_deep.hd5\n",
      "Epoch 65/100\n",
      " - 0s - loss: 0.4870 - accuracy: 0.8750 - val_loss: 0.4767 - val_accuracy: 1.0000\n",
      "\n",
      "Epoch 00065: val_loss improved from 0.48083 to 0.47667, saving model to models/iris_deep.hd5\n",
      "Epoch 66/100\n",
      " - 0s - loss: 0.4821 - accuracy: 0.9062 - val_loss: 0.4749 - val_accuracy: 1.0000\n",
      "\n",
      "Epoch 00066: val_loss improved from 0.47667 to 0.47490, saving model to models/iris_deep.hd5\n",
      "Epoch 67/100\n",
      " - 0s - loss: 0.4774 - accuracy: 0.9375 - val_loss: 0.4721 - val_accuracy: 1.0000\n",
      "\n",
      "Epoch 00067: val_loss improved from 0.47490 to 0.47213, saving model to models/iris_deep.hd5\n",
      "Epoch 68/100\n",
      " - 0s - loss: 0.4728 - accuracy: 0.9479 - val_loss: 0.4680 - val_accuracy: 1.0000\n",
      "\n",
      "Epoch 00068: val_loss improved from 0.47213 to 0.46800, saving model to models/iris_deep.hd5\n",
      "Epoch 69/100\n",
      " - 0s - loss: 0.4685 - accuracy: 0.9479 - val_loss: 0.4635 - val_accuracy: 1.0000\n",
      "\n",
      "Epoch 00069: val_loss improved from 0.46800 to 0.46345, saving model to models/iris_deep.hd5\n",
      "Epoch 70/100\n",
      " - 0s - loss: 0.4647 - accuracy: 0.9583 - val_loss: 0.4600 - val_accuracy: 1.0000\n",
      "\n",
      "Epoch 00070: val_loss improved from 0.46345 to 0.45999, saving model to models/iris_deep.hd5\n",
      "Epoch 71/100\n",
      " - 0s - loss: 0.4598 - accuracy: 0.9583 - val_loss: 0.4532 - val_accuracy: 1.0000\n",
      "\n",
      "Epoch 00071: val_loss improved from 0.45999 to 0.45319, saving model to models/iris_deep.hd5\n",
      "Epoch 72/100\n",
      " - 0s - loss: 0.4553 - accuracy: 0.9583 - val_loss: 0.4456 - val_accuracy: 1.0000\n",
      "\n",
      "Epoch 00072: val_loss improved from 0.45319 to 0.44556, saving model to models/iris_deep.hd5\n",
      "Epoch 73/100\n",
      " - 0s - loss: 0.4516 - accuracy: 0.9375 - val_loss: 0.4387 - val_accuracy: 1.0000\n",
      "\n",
      "Epoch 00073: val_loss improved from 0.44556 to 0.43872, saving model to models/iris_deep.hd5\n",
      "Epoch 74/100\n",
      " - 0s - loss: 0.4480 - accuracy: 0.8958 - val_loss: 0.4357 - val_accuracy: 1.0000\n",
      "\n",
      "Epoch 00074: val_loss improved from 0.43872 to 0.43571, saving model to models/iris_deep.hd5\n",
      "Epoch 75/100\n",
      " - 0s - loss: 0.4446 - accuracy: 0.9479 - val_loss: 0.4391 - val_accuracy: 1.0000\n",
      "\n",
      "Epoch 00075: val_loss did not improve from 0.43571\n",
      "Epoch 76/100\n",
      " - 0s - loss: 0.4404 - accuracy: 0.9583 - val_loss: 0.4356 - val_accuracy: 1.0000\n",
      "\n",
      "Epoch 00076: val_loss improved from 0.43571 to 0.43563, saving model to models/iris_deep.hd5\n",
      "Epoch 77/100\n",
      " - 0s - loss: 0.4368 - accuracy: 0.9688 - val_loss: 0.4311 - val_accuracy: 1.0000\n",
      "\n",
      "Epoch 00077: val_loss improved from 0.43563 to 0.43110, saving model to models/iris_deep.hd5\n",
      "Epoch 78/100\n",
      " - 0s - loss: 0.4340 - accuracy: 0.9479 - val_loss: 0.4195 - val_accuracy: 1.0000\n",
      "\n",
      "Epoch 00078: val_loss improved from 0.43110 to 0.41952, saving model to models/iris_deep.hd5\n",
      "Epoch 79/100\n",
      " - 0s - loss: 0.4287 - accuracy: 0.9375 - val_loss: 0.4124 - val_accuracy: 1.0000\n",
      "\n",
      "Epoch 00079: val_loss improved from 0.41952 to 0.41237, saving model to models/iris_deep.hd5\n",
      "Epoch 80/100\n",
      " - 0s - loss: 0.4271 - accuracy: 0.8750 - val_loss: 0.4061 - val_accuracy: 1.0000\n",
      "\n",
      "Epoch 00080: val_loss improved from 0.41237 to 0.40607, saving model to models/iris_deep.hd5\n",
      "Epoch 81/100\n",
      " - 0s - loss: 0.4235 - accuracy: 0.8750 - val_loss: 0.4052 - val_accuracy: 1.0000\n",
      "\n",
      "Epoch 00081: val_loss improved from 0.40607 to 0.40522, saving model to models/iris_deep.hd5\n",
      "Epoch 82/100\n",
      " - 0s - loss: 0.4193 - accuracy: 0.9375 - val_loss: 0.4077 - val_accuracy: 1.0000\n",
      "\n",
      "Epoch 00082: val_loss did not improve from 0.40522\n",
      "Epoch 83/100\n",
      " - 0s - loss: 0.4151 - accuracy: 0.9583 - val_loss: 0.4041 - val_accuracy: 1.0000\n",
      "\n",
      "Epoch 00083: val_loss improved from 0.40522 to 0.40406, saving model to models/iris_deep.hd5\n",
      "Epoch 84/100\n",
      " - 0s - loss: 0.4118 - accuracy: 0.9583 - val_loss: 0.3978 - val_accuracy: 1.0000\n",
      "\n",
      "Epoch 00084: val_loss improved from 0.40406 to 0.39780, saving model to models/iris_deep.hd5\n",
      "Epoch 85/100\n",
      " - 0s - loss: 0.4087 - accuracy: 0.9583 - val_loss: 0.3937 - val_accuracy: 1.0000\n",
      "\n",
      "Epoch 00085: val_loss improved from 0.39780 to 0.39369, saving model to models/iris_deep.hd5\n",
      "Epoch 86/100\n",
      " - 0s - loss: 0.4058 - accuracy: 0.9583 - val_loss: 0.3923 - val_accuracy: 1.0000\n",
      "\n",
      "Epoch 00086: val_loss improved from 0.39369 to 0.39227, saving model to models/iris_deep.hd5\n",
      "Epoch 87/100\n",
      " - 0s - loss: 0.4026 - accuracy: 0.9583 - val_loss: 0.3872 - val_accuracy: 1.0000\n",
      "\n",
      "Epoch 00087: val_loss improved from 0.39227 to 0.38719, saving model to models/iris_deep.hd5\n",
      "Epoch 88/100\n",
      " - 0s - loss: 0.3993 - accuracy: 0.9583 - val_loss: 0.3809 - val_accuracy: 1.0000\n",
      "\n",
      "Epoch 00088: val_loss improved from 0.38719 to 0.38095, saving model to models/iris_deep.hd5\n",
      "Epoch 89/100\n",
      " - 0s - loss: 0.3967 - accuracy: 0.9479 - val_loss: 0.3799 - val_accuracy: 1.0000\n",
      "\n",
      "Epoch 00089: val_loss improved from 0.38095 to 0.37991, saving model to models/iris_deep.hd5\n",
      "Epoch 90/100\n",
      " - 0s - loss: 0.3937 - accuracy: 0.9583 - val_loss: 0.3805 - val_accuracy: 1.0000\n",
      "\n",
      "Epoch 00090: val_loss did not improve from 0.37991\n",
      "Epoch 91/100\n",
      " - 0s - loss: 0.3906 - accuracy: 0.9583 - val_loss: 0.3792 - val_accuracy: 1.0000\n",
      "\n",
      "Epoch 00091: val_loss improved from 0.37991 to 0.37925, saving model to models/iris_deep.hd5\n",
      "Epoch 92/100\n",
      " - 0s - loss: 0.3875 - accuracy: 0.9688 - val_loss: 0.3771 - val_accuracy: 1.0000\n",
      "\n",
      "Epoch 00092: val_loss improved from 0.37925 to 0.37712, saving model to models/iris_deep.hd5\n",
      "Epoch 93/100\n",
      " - 0s - loss: 0.3844 - accuracy: 0.9583 - val_loss: 0.3771 - val_accuracy: 1.0000\n",
      "\n",
      "Epoch 00093: val_loss improved from 0.37712 to 0.37707, saving model to models/iris_deep.hd5\n",
      "Epoch 94/100\n",
      " - 0s - loss: 0.3825 - accuracy: 0.9479 - val_loss: 0.3787 - val_accuracy: 1.0000\n",
      "\n",
      "Epoch 00094: val_loss did not improve from 0.37707\n",
      "Epoch 95/100\n",
      " - 0s - loss: 0.3816 - accuracy: 0.9271 - val_loss: 0.3806 - val_accuracy: 1.0000\n",
      "\n",
      "Epoch 00095: val_loss did not improve from 0.37707\n",
      "Epoch 96/100\n",
      " - 0s - loss: 0.3793 - accuracy: 0.9271 - val_loss: 0.3709 - val_accuracy: 1.0000\n",
      "\n",
      "Epoch 00096: val_loss improved from 0.37707 to 0.37091, saving model to models/iris_deep.hd5\n",
      "Epoch 97/100\n",
      " - 0s - loss: 0.3745 - accuracy: 0.9375 - val_loss: 0.3604 - val_accuracy: 1.0000\n",
      "\n",
      "Epoch 00097: val_loss improved from 0.37091 to 0.36045, saving model to models/iris_deep.hd5\n",
      "Epoch 98/100\n",
      " - 0s - loss: 0.3703 - accuracy: 0.9688 - val_loss: 0.3520 - val_accuracy: 1.0000\n",
      "\n",
      "Epoch 00098: val_loss improved from 0.36045 to 0.35200, saving model to models/iris_deep.hd5\n",
      "Epoch 99/100\n",
      " - 0s - loss: 0.3685 - accuracy: 0.9583 - val_loss: 0.3453 - val_accuracy: 1.0000\n",
      "\n",
      "Epoch 00099: val_loss improved from 0.35200 to 0.34532, saving model to models/iris_deep.hd5\n",
      "Epoch 100/100\n",
      " - 0s - loss: 0.3666 - accuracy: 0.9583 - val_loss: 0.3394 - val_accuracy: 1.0000\n",
      "\n",
      "Epoch 00100: val_loss improved from 0.34532 to 0.33938, saving model to models/iris_deep.hd5\n"
     ]
    },
    {
     "data": {
      "text/plain": "<keras.callbacks.callbacks.History at 0x17036de5608>"
     },
     "execution_count": 24,
     "metadata": {},
     "output_type": "execute_result"
    }
   ],
   "source": [
    "model.fit(x_train, y_encoded, epochs=100, batch_size=30, verbose=2, validation_split=0.2, callbacks=[cp])"
   ],
   "metadata": {
    "collapsed": false,
    "pycharm": {
     "name": "#%%\n"
    }
   }
  },
  {
   "cell_type": "code",
   "execution_count": 25,
   "outputs": [],
   "source": [
    "del model"
   ],
   "metadata": {
    "collapsed": false,
    "pycharm": {
     "name": "#%%\n"
    }
   }
  },
  {
   "cell_type": "code",
   "execution_count": 26,
   "outputs": [],
   "source": [
    "model = load_model('models/iris_deep.hd5')"
   ],
   "metadata": {
    "collapsed": false,
    "pycharm": {
     "name": "#%%\n"
    }
   }
  },
  {
   "cell_type": "code",
   "execution_count": 27,
   "outputs": [],
   "source": [
    "iris_deep = model.predict_classes(test_data)[0]"
   ],
   "metadata": {
    "collapsed": false,
    "pycharm": {
     "name": "#%%\n"
    }
   }
  },
  {
   "cell_type": "code",
   "execution_count": 28,
   "outputs": [
    {
     "name": "stdout",
     "output_type": "stream",
     "text": [
      "Virginica\n"
     ]
    }
   ],
   "source": [
    "print(sp_names[iris_deep])"
   ],
   "metadata": {
    "collapsed": false,
    "pycharm": {
     "name": "#%%\n"
    }
   }
  },
  {
   "cell_type": "code",
   "execution_count": 28,
   "outputs": [],
   "source": [
    "\n"
   ],
   "metadata": {
    "collapsed": false,
    "pycharm": {
     "name": "#%%\n"
    }
   }
  }
 ],
 "metadata": {
  "kernelspec": {
   "display_name": "Python 3.7.7 64-bit ('tf2': conda)",
   "language": "python",
   "name": "python37764bittf2condaada9f1f8f8664511a8a230abb5354df4"
  },
  "language_info": {
   "codemirror_mode": {
    "name": "ipython",
    "version": 3
   },
   "file_extension": ".py",
   "mimetype": "text/x-python",
   "name": "python",
   "nbconvert_exporter": "python",
   "pygments_lexer": "ipython3",
   "version": "3.7.7"
  }
 },
 "nbformat": 4,
 "nbformat_minor": 4
}